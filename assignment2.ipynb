{
 "cells": [
  {
   "cell_type": "code",
   "execution_count": 1,
   "metadata": {},
   "outputs": [],
   "source": [
    "import pandas as pd\n",
    "import numpy as np"
   ]
  },
  {
   "cell_type": "code",
   "execution_count": 3,
   "metadata": {},
   "outputs": [],
   "source": [
    "# Defining list of all possible values for each column\n",
    "# This i will use to generate random data for my database\n",
    "# Chose project_types as Different project types have different costs, risks, and co-benefits.\n",
    "# locations is important as Projects in certain regions might have higher operational costs or be subject to local regulations\n",
    "# vintages:  Older projects might have higher maintenance costs or be less efficient\n",
    "# co-benefits provide Additional environmental, social, or economic benefits.\n",
    "\n",
    "project_types = ['Reforestation', 'Renewable Energy', 'Methane Capture']\n",
    "locations = ['North America', 'South America', 'Africa', 'Asia', 'Europe']\n",
    "vintages = list(range(2015, 2024))\n",
    "co_benefits = ['None', 'High']\n"
   ]
  },
  {
   "cell_type": "code",
   "execution_count": 4,
   "metadata": {},
   "outputs": [],
   "source": [
    "# Generating random data for the database\n",
    "samples = 100\n",
    "data = {\n",
    "    'project_type': np.random.choice(project_types, samples),\n",
    "    'location': np.random.choice(locations, samples),\n",
    "    'vintage': np.random.choice(vintages, samples),\n",
    "    'co_benefits': np.random.choice(co_benefits, samples)\n",
    "}\n"
   ]
  },
  {
   "cell_type": "code",
   "execution_count": 5,
   "metadata": {},
   "outputs": [],
   "source": [
    "#Defining weights for each column\n",
    "weights = {\n",
    "    'project_type': {'Reforestation': 1.5, 'Renewable Energy': 1.2, 'Methane Capture': 1.0},\n",
    "    'location': {'North America': 1.2, 'South America': 1.0, 'Africa': 1.1, 'Asia': 1.0, 'Europe': 1.3},\n",
    "    'vintage': {year: 1.0 - (2023 - year) * 0.02 for year in vintages},\n",
    "    'co_benefits': {'None': 1.0, 'High': 1.5}\n",
    "}"
   ]
  },
  {
   "cell_type": "code",
   "execution_count": 6,
   "metadata": {},
   "outputs": [],
   "source": [
    "#My price calculation algo\n",
    "def calculate_price(row):\n",
    "    price = 10 #giving a fix prie to start with\n",
    "    for attribute in weights.keys():\n",
    "        price *= weights[attribute][row[attribute]]\n",
    "    return price"
   ]
  },
  {
   "cell_type": "code",
   "execution_count": 9,
   "metadata": {},
   "outputs": [
    {
     "data": {
      "text/html": [
       "<div>\n",
       "<style scoped>\n",
       "    .dataframe tbody tr th:only-of-type {\n",
       "        vertical-align: middle;\n",
       "    }\n",
       "\n",
       "    .dataframe tbody tr th {\n",
       "        vertical-align: top;\n",
       "    }\n",
       "\n",
       "    .dataframe thead th {\n",
       "        text-align: right;\n",
       "    }\n",
       "</style>\n",
       "<table border=\"1\" class=\"dataframe\">\n",
       "  <thead>\n",
       "    <tr style=\"text-align: right;\">\n",
       "      <th></th>\n",
       "      <th>project_type</th>\n",
       "      <th>location</th>\n",
       "      <th>vintage</th>\n",
       "      <th>co_benefits</th>\n",
       "      <th>price</th>\n",
       "    </tr>\n",
       "  </thead>\n",
       "  <tbody>\n",
       "    <tr>\n",
       "      <th>0</th>\n",
       "      <td>Methane Capture</td>\n",
       "      <td>Europe</td>\n",
       "      <td>2016</td>\n",
       "      <td>None</td>\n",
       "      <td>11.180</td>\n",
       "    </tr>\n",
       "    <tr>\n",
       "      <th>1</th>\n",
       "      <td>Reforestation</td>\n",
       "      <td>Africa</td>\n",
       "      <td>2016</td>\n",
       "      <td>None</td>\n",
       "      <td>14.190</td>\n",
       "    </tr>\n",
       "    <tr>\n",
       "      <th>2</th>\n",
       "      <td>Methane Capture</td>\n",
       "      <td>North America</td>\n",
       "      <td>2015</td>\n",
       "      <td>High</td>\n",
       "      <td>15.120</td>\n",
       "    </tr>\n",
       "    <tr>\n",
       "      <th>3</th>\n",
       "      <td>Renewable Energy</td>\n",
       "      <td>South America</td>\n",
       "      <td>2022</td>\n",
       "      <td>High</td>\n",
       "      <td>17.640</td>\n",
       "    </tr>\n",
       "    <tr>\n",
       "      <th>4</th>\n",
       "      <td>Renewable Energy</td>\n",
       "      <td>Europe</td>\n",
       "      <td>2016</td>\n",
       "      <td>None</td>\n",
       "      <td>13.416</td>\n",
       "    </tr>\n",
       "  </tbody>\n",
       "</table>\n",
       "</div>"
      ],
      "text/plain": [
       "       project_type       location  vintage co_benefits   price\n",
       "0   Methane Capture         Europe     2016        None  11.180\n",
       "1     Reforestation         Africa     2016        None  14.190\n",
       "2   Methane Capture  North America     2015        High  15.120\n",
       "3  Renewable Energy  South America     2022        High  17.640\n",
       "4  Renewable Energy         Europe     2016        None  13.416"
      ]
     },
     "execution_count": 9,
     "metadata": {},
     "output_type": "execute_result"
    }
   ],
   "source": [
    "#Creating a dataframe and adding calculating price for each data\n",
    "df = pd.DataFrame(data)\n",
    "df['price'] = df.apply(calculate_price, axis=1)\n",
    "df.head()"
   ]
  },
  {
   "cell_type": "code",
   "execution_count": 10,
   "metadata": {},
   "outputs": [],
   "source": [
    "#to take input and calculate price\n",
    "def calculate_price():\n",
    "    row = []\n",
    "    row.append(input(\"Enter the project type: \"))\n",
    "    row.append(input(\"Enter the location: \"))\n",
    "    row.append(int(input(\"Enter the vintage: \")))\n",
    "    row.append(input(\"Enter the co_benefits: \"))\n",
    "    row_series = pd.Series(row, index=df.columns)\n",
    "    price = calculate_price(row_series)\n",
    "    print(f\"The price for this project is {price}\")\n",
    "calculate_price()\n"
   ]
  },
  {
   "cell_type": "markdown",
   "metadata": {},
   "source": [
    "## Limitations:\n",
    "\n",
    "- **Synthetic Data**: I generated data myself and thus it may not reflect real-world complexity.\n",
    "- **Simplistic Model**: I used a basic weighted system, which may not capture all attributes/ scenarios.\n",
    "- **May not reflect real world**: Real-world prices are influenced by market dynamics, regulations, and other factors not included in this model.\n",
    "\n",
    "## Improvements:\n",
    "\n",
    "- **Real-World Data**: Use actual carbon credit transaction data to refine the model.\n",
    "- **Advanced Algorithms**: Implement machine learning techniques to better predict prices.\n",
    "- **Market Factors**: Incorporate additional factors like regulatory changes, market demand, and economic conditions."
   ]
  }
 ],
 "metadata": {
  "kernelspec": {
   "display_name": ".venv",
   "language": "python",
   "name": "python3"
  },
  "language_info": {
   "codemirror_mode": {
    "name": "ipython",
    "version": 3
   },
   "file_extension": ".py",
   "mimetype": "text/x-python",
   "name": "python",
   "nbconvert_exporter": "python",
   "pygments_lexer": "ipython3",
   "version": "3.12.3"
  }
 },
 "nbformat": 4,
 "nbformat_minor": 2
}
